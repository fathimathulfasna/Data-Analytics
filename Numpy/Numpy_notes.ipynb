{
  "nbformat": 4,
  "nbformat_minor": 0,
  "metadata": {
    "colab": {
      "provenance": [],
      "authorship_tag": "ABX9TyPzW9Grh35JXI+jiQJ7mrss",
      "include_colab_link": true
    },
    "kernelspec": {
      "name": "python3",
      "display_name": "Python 3"
    },
    "language_info": {
      "name": "python"
    }
  },
  "cells": [
    {
      "cell_type": "markdown",
      "metadata": {
        "id": "view-in-github",
        "colab_type": "text"
      },
      "source": [
        "<a href=\"https://colab.research.google.com/github/fathimathulfasna/Data-Analytics/blob/main/Numpy/Numpy_notes.ipynb\" target=\"_parent\"><img src=\"https://colab.research.google.com/assets/colab-badge.svg\" alt=\"Open In Colab\"/></a>"
      ]
    },
    {
      "cell_type": "markdown",
      "source": [
        "##**Numpy Package**"
      ],
      "metadata": {
        "id": "Zvy4RVGS-ctD"
      }
    },
    {
      "cell_type": "markdown",
      "source": [
        "**numpy sub heading**\n"
      ],
      "metadata": {
        "id": "GAQaejZC-SDw"
      }
    },
    {
      "cell_type": "code",
      "execution_count": null,
      "metadata": {
        "id": "NbMSLJkk9NrM"
      },
      "outputs": [],
      "source": [
        "import numpy as np"
      ]
    },
    {
      "cell_type": "markdown",
      "source": [],
      "metadata": {
        "id": "T5JZKuvP-Oww"
      }
    },
    {
      "cell_type": "code",
      "source": [
        "arr1d = np.array( [1,2,3])\n",
        "print(arr1d)\n",
        "\n",
        "print(arr1d.shape)\n",
        "\n",
        "type(arr1d)\n"
      ],
      "metadata": {
        "colab": {
          "base_uri": "https://localhost:8080/"
        },
        "id": "lw6-_o5sI6Wg",
        "outputId": "c535ba1f-b57e-4897-e3fb-fcfb48bd7e5b"
      },
      "execution_count": null,
      "outputs": [
        {
          "output_type": "stream",
          "name": "stdout",
          "text": [
            "[1 2 3]\n",
            "(3,)\n"
          ]
        },
        {
          "output_type": "execute_result",
          "data": {
            "text/plain": [
              "numpy.ndarray"
            ]
          },
          "metadata": {},
          "execution_count": 21
        }
      ]
    },
    {
      "cell_type": "code",
      "source": [
        "arr2d = np.array([ [1,2,3] , [2,3,4] ])\n",
        "print(arr2d)\n",
        "\n",
        "print(arr2d.shape)\n",
        "\n",
        "type(arr2d)"
      ],
      "metadata": {
        "colab": {
          "base_uri": "https://localhost:8080/"
        },
        "id": "w9NDNxcJJMo0",
        "outputId": "926a6067-881b-4802-8e2a-4970a067e7f4"
      },
      "execution_count": null,
      "outputs": [
        {
          "output_type": "stream",
          "name": "stdout",
          "text": [
            "[[1 2 3]\n",
            " [2 3 4]]\n",
            "(2, 3)\n"
          ]
        },
        {
          "output_type": "execute_result",
          "data": {
            "text/plain": [
              "numpy.ndarray"
            ]
          },
          "metadata": {},
          "execution_count": 22
        }
      ]
    },
    {
      "cell_type": "code",
      "source": [
        "arr3d = np.array( [ [ [1,4,5] , [5,7,9] , [9,7,6] ]])\n",
        "print(arr3d)\n",
        "\n",
        "print(arr3d.shape)\n",
        "\n",
        "type(arr3d)"
      ],
      "metadata": {
        "colab": {
          "base_uri": "https://localhost:8080/"
        },
        "id": "L02JfNIJJkF-",
        "outputId": "cd9db055-6755-4b75-e1a7-058b101e78bc"
      },
      "execution_count": null,
      "outputs": [
        {
          "output_type": "stream",
          "name": "stdout",
          "text": [
            "[[[1 4 5]\n",
            "  [5 7 9]\n",
            "  [9 7 6]]]\n",
            "(1, 3, 3)\n"
          ]
        },
        {
          "output_type": "execute_result",
          "data": {
            "text/plain": [
              "numpy.ndarray"
            ]
          },
          "metadata": {},
          "execution_count": 23
        }
      ]
    },
    {
      "cell_type": "code",
      "source": [
        "arr3dL =np.array([ [ [1,2,3] , [4,5,9] ] , [ [5,6,4] , [7,8,2] ] ])\n",
        "print(arr3dL)\n",
        "\n",
        "print(arr3dL.shape)\n",
        "\n",
        "type(arr3dL)"
      ],
      "metadata": {
        "colab": {
          "base_uri": "https://localhost:8080/"
        },
        "id": "7vnq5anlKUeu",
        "outputId": "ac4b39b9-ebbf-4f28-fa04-ef27df52e7a5"
      },
      "execution_count": null,
      "outputs": [
        {
          "output_type": "stream",
          "name": "stdout",
          "text": [
            "[[[1 2 3]\n",
            "  [4 5 9]]\n",
            "\n",
            " [[5 6 4]\n",
            "  [7 8 2]]]\n",
            "(2, 2, 3)\n"
          ]
        },
        {
          "output_type": "execute_result",
          "data": {
            "text/plain": [
              "numpy.ndarray"
            ]
          },
          "metadata": {},
          "execution_count": 25
        }
      ]
    },
    {
      "cell_type": "code",
      "source": [
        "arr1d = np.array( [1,2,3,4,5])\n",
        "arr1d"
      ],
      "metadata": {
        "colab": {
          "base_uri": "https://localhost:8080/"
        },
        "id": "oPRH8K7NK93R",
        "outputId": "5bde97a6-ffd0-4a15-ad67-a6e11af42883"
      },
      "execution_count": null,
      "outputs": [
        {
          "output_type": "execute_result",
          "data": {
            "text/plain": [
              "array([1, 2, 3, 4, 5])"
            ]
          },
          "metadata": {},
          "execution_count": 31
        }
      ]
    },
    {
      "cell_type": "code",
      "source": [
        "element = arr1d[2]\n",
        "print(element)"
      ],
      "metadata": {
        "colab": {
          "base_uri": "https://localhost:8080/"
        },
        "id": "SvNKrpq5OAA5",
        "outputId": "c38e5d64-a4aa-4ee4-e63d-9118148af722"
      },
      "execution_count": null,
      "outputs": [
        {
          "output_type": "stream",
          "name": "stdout",
          "text": [
            "3\n"
          ]
        }
      ]
    },
    {
      "cell_type": "markdown",
      "source": [
        "**Slicing**"
      ],
      "metadata": {
        "id": "azgJlGQjXplH"
      }
    },
    {
      "cell_type": "code",
      "source": [
        "slice = arr1d[1:4]\n",
        "print(slice)"
      ],
      "metadata": {
        "colab": {
          "base_uri": "https://localhost:8080/"
        },
        "id": "C9XTk8myOjci",
        "outputId": "fd23e089-d885-450f-83e0-f6aa56ae662f"
      },
      "execution_count": null,
      "outputs": [
        {
          "output_type": "stream",
          "name": "stdout",
          "text": [
            "[2 3 4]\n"
          ]
        }
      ]
    },
    {
      "cell_type": "markdown",
      "source": [
        "**Reshape array**"
      ],
      "metadata": {
        "id": "7HbRWKOTXlv0"
      }
    },
    {
      "cell_type": "code",
      "source": [
        "reshaped = arr1d.reshape(5,1)\n",
        "print(reshaped)"
      ],
      "metadata": {
        "colab": {
          "base_uri": "https://localhost:8080/"
        },
        "id": "FwFWLA6JPWZb",
        "outputId": "3b4c4740-bbde-49db-8be0-e0a2703f78ce"
      },
      "execution_count": null,
      "outputs": [
        {
          "output_type": "stream",
          "name": "stdout",
          "text": [
            "[[1]\n",
            " [2]\n",
            " [3]\n",
            " [4]\n",
            " [5]]\n"
          ]
        }
      ]
    },
    {
      "cell_type": "markdown",
      "source": [
        "**Iteration through array**"
      ],
      "metadata": {
        "id": "cKCznU3hXgIh"
      }
    },
    {
      "cell_type": "code",
      "source": [
        "arr = np.array([1,2,3,4,5])\n",
        "for item in arr:\n",
        "  print(item)"
      ],
      "metadata": {
        "colab": {
          "base_uri": "https://localhost:8080/"
        },
        "id": "_MgQEsfCP4_B",
        "outputId": "5a867186-2bda-4ae5-a588-4ed9aa4480f9"
      },
      "execution_count": null,
      "outputs": [
        {
          "output_type": "stream",
          "name": "stdout",
          "text": [
            "1\n",
            "2\n",
            "3\n",
            "4\n",
            "5\n"
          ]
        }
      ]
    },
    {
      "cell_type": "markdown",
      "source": [
        "**To check dimension**\n"
      ],
      "metadata": {
        "id": "_BwIanRRXa06"
      }
    },
    {
      "cell_type": "code",
      "source": [
        "print(arr3d.ndim)"
      ],
      "metadata": {
        "colab": {
          "base_uri": "https://localhost:8080/"
        },
        "id": "U_IKkzkVXISk",
        "outputId": "cb6044ae-9c65-4263-8877-a69879195131"
      },
      "execution_count": null,
      "outputs": [
        {
          "output_type": "stream",
          "name": "stdout",
          "text": [
            "3\n"
          ]
        }
      ]
    },
    {
      "cell_type": "markdown",
      "source": [
        "**To check size of an array**"
      ],
      "metadata": {
        "id": "iU4i6_sOXzs1"
      }
    },
    {
      "cell_type": "code",
      "source": [
        "print(arr1d.size)"
      ],
      "metadata": {
        "colab": {
          "base_uri": "https://localhost:8080/"
        },
        "id": "2rpMu4XzXWN_",
        "outputId": "4ea8248b-e0dd-454d-ccd5-e54f35ccce4c"
      },
      "execution_count": null,
      "outputs": [
        {
          "output_type": "stream",
          "name": "stdout",
          "text": [
            "5\n"
          ]
        }
      ]
    },
    {
      "cell_type": "code",
      "source": [
        "print(arr2d.size)"
      ],
      "metadata": {
        "colab": {
          "base_uri": "https://localhost:8080/"
        },
        "id": "ir8vABCoX725",
        "outputId": "bbefc227-75ee-436c-ae73-ea8698d86349"
      },
      "execution_count": null,
      "outputs": [
        {
          "output_type": "stream",
          "name": "stdout",
          "text": [
            "6\n"
          ]
        }
      ]
    },
    {
      "cell_type": "code",
      "source": [
        "print(arr3d.size)"
      ],
      "metadata": {
        "colab": {
          "base_uri": "https://localhost:8080/"
        },
        "id": "lZp0PZnGYCEl",
        "outputId": "c352596e-6384-4714-dc91-8f9cefa79658"
      },
      "execution_count": null,
      "outputs": [
        {
          "output_type": "stream",
          "name": "stdout",
          "text": [
            "9\n"
          ]
        }
      ]
    },
    {
      "cell_type": "markdown",
      "source": [
        "**To check dtype**"
      ],
      "metadata": {
        "id": "urEtaFSHYV_m"
      }
    },
    {
      "cell_type": "code",
      "source": [
        "print(arr1d.dtype)"
      ],
      "metadata": {
        "colab": {
          "base_uri": "https://localhost:8080/"
        },
        "id": "PHO3I5P3YGTH",
        "outputId": "7baf9874-dde2-40e4-ee5e-bb88c27c82e2"
      },
      "execution_count": null,
      "outputs": [
        {
          "output_type": "stream",
          "name": "stdout",
          "text": [
            "int64\n"
          ]
        }
      ]
    },
    {
      "cell_type": "code",
      "source": [
        "arr = np.array( [1,2,3,\"abc\",2.0,5.0])\n",
        "print(arr)"
      ],
      "metadata": {
        "colab": {
          "base_uri": "https://localhost:8080/"
        },
        "id": "znAYfa65YhNK",
        "outputId": "1bb8bf8e-3cc7-4e4e-8c49-c3d34d1a4a21"
      },
      "execution_count": null,
      "outputs": [
        {
          "output_type": "stream",
          "name": "stdout",
          "text": [
            "['1' '2' '3' 'abc' '2.0' '5.0']\n"
          ]
        }
      ]
    },
    {
      "cell_type": "code",
      "source": [
        "print(arr.dtype)"
      ],
      "metadata": {
        "colab": {
          "base_uri": "https://localhost:8080/"
        },
        "id": "39fnTTghYteF",
        "outputId": "5de3dca7-0119-4654-87af-e2f8ba40152c"
      },
      "execution_count": null,
      "outputs": [
        {
          "output_type": "stream",
          "name": "stdout",
          "text": [
            "<U32\n"
          ]
        }
      ]
    },
    {
      "cell_type": "markdown",
      "source": [
        "**To change the dtype of an array**"
      ],
      "metadata": {
        "id": "pHEmBEvhaBzS"
      }
    },
    {
      "cell_type": "code",
      "source": [
        "arr1 = np.array( [1,2,3,6,7,8] )\n",
        "print (arr1)\n",
        "\n",
        "print(arr1.dtype)\n",
        "\n",
        "arr2 = arr1.astype('float64')\n",
        "\n",
        "print(arr2)\n",
        "print(arr2.dtype)"
      ],
      "metadata": {
        "colab": {
          "base_uri": "https://localhost:8080/"
        },
        "id": "ZRWUhnW7a0Hp",
        "outputId": "952b829f-301f-40f6-bff3-176789a6a8b8"
      },
      "execution_count": null,
      "outputs": [
        {
          "output_type": "stream",
          "name": "stdout",
          "text": [
            "[1 2 3 6 7 8]\n",
            "int64\n",
            "[1. 2. 3. 6. 7. 8.]\n",
            "float64\n"
          ]
        }
      ]
    },
    {
      "cell_type": "markdown",
      "source": [
        "**To concatenate arrays in numpy**"
      ],
      "metadata": {
        "id": "nA8rC21Ad6Vw"
      }
    },
    {
      "cell_type": "code",
      "source": [
        "arr1 = np.array( [1,2,3] )\n",
        "arr2 = np.array( [3,4,5] )\n",
        "\n",
        "result = np.concatenate((arr1,arr2), axis=0)\n",
        "print(result)\n"
      ],
      "metadata": {
        "colab": {
          "base_uri": "https://localhost:8080/"
        },
        "id": "vO2z5SuzYw6V",
        "outputId": "1e77da86-7174-46b1-9479-b27bd9bf60ba"
      },
      "execution_count": null,
      "outputs": [
        {
          "output_type": "stream",
          "name": "stdout",
          "text": [
            "[1 2 3 3 4 5]\n"
          ]
        }
      ]
    },
    {
      "cell_type": "markdown",
      "source": [
        "**To split arrays in numpy**"
      ],
      "metadata": {
        "id": "41szx3FbNKZf"
      }
    },
    {
      "cell_type": "code",
      "source": [
        "import numpy as np\n",
        "arr = np.array( [1,2,3,4,5,6] )\n",
        "split = np.split(arr,3,axis=0)\n",
        "print(split)"
      ],
      "metadata": {
        "colab": {
          "base_uri": "https://localhost:8080/"
        },
        "id": "Ag92iYl1NURl",
        "outputId": "4522280a-24d8-42f8-ff05-f73ee4ce0f95"
      },
      "execution_count": null,
      "outputs": [
        {
          "output_type": "stream",
          "name": "stdout",
          "text": [
            "[array([1, 2]), array([3, 4]), array([5, 6])]\n"
          ]
        }
      ]
    },
    {
      "cell_type": "markdown",
      "source": [
        "**To sort arrays in numpy**"
      ],
      "metadata": {
        "id": "Pllw0igLTUDA"
      }
    },
    {
      "cell_type": "code",
      "source": [
        "arr = np.array( [7,3,4,5,2,1])\n",
        "sort = np.sort(arr)\n",
        "print(sort)"
      ],
      "metadata": {
        "colab": {
          "base_uri": "https://localhost:8080/"
        },
        "id": "1BdagsC5QwcI",
        "outputId": "523ef5e8-d6ae-45da-a5c1-c00a924f29ec"
      },
      "execution_count": null,
      "outputs": [
        {
          "output_type": "stream",
          "name": "stdout",
          "text": [
            "[1 2 3 4 5 7]\n"
          ]
        }
      ]
    },
    {
      "cell_type": "markdown",
      "source": [
        "**To check where specific condition satisfy in numpy**"
      ],
      "metadata": {
        "id": "8c6ftOTSTdvO"
      }
    },
    {
      "cell_type": "code",
      "source": [
        "arr = np.array( [3,4,5,6,7,8])\n",
        "where = np.where(arr >4)\n",
        "print(where) # It returns Index positions"
      ],
      "metadata": {
        "colab": {
          "base_uri": "https://localhost:8080/"
        },
        "id": "JSSCNfVcRA-M",
        "outputId": "2296028f-93d7-482a-e495-2ffe28795310"
      },
      "execution_count": null,
      "outputs": [
        {
          "output_type": "stream",
          "name": "stdout",
          "text": [
            "(array([2, 3, 4, 5]),)\n"
          ]
        }
      ]
    },
    {
      "cell_type": "markdown",
      "source": [
        "**To filter a new array from arrays in numpy**"
      ],
      "metadata": {
        "id": "ebZJIWd2UC66"
      }
    },
    {
      "cell_type": "code",
      "source": [
        "arr = np.array( [ 1,2,5,2,3,6,8])\n",
        "condition = arr > 4\n",
        "filtered_arr = arr[condition] #creating a new array with elements greater than 5\n",
        "print(filtered_arr)"
      ],
      "metadata": {
        "colab": {
          "base_uri": "https://localhost:8080/"
        },
        "id": "nthu65YbRpds",
        "outputId": "e11cdbe6-5845-4c04-bedf-06a0fc24aafc"
      },
      "execution_count": null,
      "outputs": [
        {
          "output_type": "stream",
          "name": "stdout",
          "text": [
            "[5 6 8]\n"
          ]
        }
      ]
    },
    {
      "cell_type": "markdown",
      "source": [
        "**filtering arrays using boolean indexing**"
      ],
      "metadata": {
        "id": "YOY96rCPyfls"
      }
    },
    {
      "cell_type": "code",
      "source": [
        "arr = np.array( [1,2,3])\n",
        "x = [True,False,True]\n",
        "newarr = arr[x]\n",
        "print(newarr)"
      ],
      "metadata": {
        "colab": {
          "base_uri": "https://localhost:8080/"
        },
        "id": "v1x0ZOJWYTnd",
        "outputId": "fb615bc9-5fe2-417f-bfba-4993d66c7a65"
      },
      "execution_count": null,
      "outputs": [
        {
          "output_type": "stream",
          "name": "stdout",
          "text": [
            "[1 3]\n"
          ]
        }
      ]
    },
    {
      "cell_type": "markdown",
      "source": [
        "**Slicing rows and coloumns using index**"
      ],
      "metadata": {
        "id": "OK6nq029zkMw"
      }
    },
    {
      "cell_type": "code",
      "source": [
        "arr = np.array( [ [1,2,3],\n",
        "                  [1,2,4] ,\n",
        "                  [5,6,7]])\n"
      ],
      "metadata": {
        "id": "cli-IoT2Y8aB"
      },
      "execution_count": null,
      "outputs": []
    },
    {
      "cell_type": "code",
      "source": [
        "table = arr[1, :]\n",
        "print(table)"
      ],
      "metadata": {
        "colab": {
          "base_uri": "https://localhost:8080/"
        },
        "id": "yABjZYZkZiXD",
        "outputId": "380141e7-9ca5-4878-95dc-3f0291f83cee"
      },
      "execution_count": null,
      "outputs": [
        {
          "output_type": "stream",
          "name": "stdout",
          "text": [
            "[1 2 4]\n"
          ]
        }
      ]
    },
    {
      "cell_type": "code",
      "source": [
        "table = arr[:,1]\n",
        "print(table)"
      ],
      "metadata": {
        "colab": {
          "base_uri": "https://localhost:8080/"
        },
        "id": "YWJ70rKSZ7ac",
        "outputId": "bb13b30d-b880-4c9c-b040-d4da32a8975e"
      },
      "execution_count": null,
      "outputs": [
        {
          "output_type": "stream",
          "name": "stdout",
          "text": [
            "[2 2 6]\n"
          ]
        }
      ]
    },
    {
      "cell_type": "code",
      "source": [
        "table = arr[:,2]\n",
        "print(table)"
      ],
      "metadata": {
        "colab": {
          "base_uri": "https://localhost:8080/"
        },
        "id": "GFONFXiwaF3H",
        "outputId": "1cca7be6-a818-424e-c053-62724466300a"
      },
      "execution_count": null,
      "outputs": [
        {
          "output_type": "stream",
          "name": "stdout",
          "text": [
            "[3 4 7]\n"
          ]
        }
      ]
    },
    {
      "cell_type": "code",
      "source": [
        "table = arr[0:2,:]\n",
        "print(table)"
      ],
      "metadata": {
        "colab": {
          "base_uri": "https://localhost:8080/"
        },
        "id": "8jcW2PDyaSUL",
        "outputId": "9484b7c8-67c4-4fb7-90bb-4e6aaf320de1"
      },
      "execution_count": null,
      "outputs": [
        {
          "output_type": "stream",
          "name": "stdout",
          "text": [
            "[[1 2 3]\n",
            " [1 2 4]]\n"
          ]
        }
      ]
    },
    {
      "cell_type": "code",
      "source": [
        "table = arr[:,1:3]\n",
        "print(table)"
      ],
      "metadata": {
        "colab": {
          "base_uri": "https://localhost:8080/"
        },
        "id": "O3nFL__1a_9Y",
        "outputId": "ceaa9a26-db31-4144-f26d-334029a4f831"
      },
      "execution_count": null,
      "outputs": [
        {
          "output_type": "stream",
          "name": "stdout",
          "text": [
            "[[2 3]\n",
            " [2 4]\n",
            " [6 7]]\n"
          ]
        }
      ]
    },
    {
      "cell_type": "code",
      "source": [
        "table = arr[1:,:]\n",
        "print(table)"
      ],
      "metadata": {
        "colab": {
          "base_uri": "https://localhost:8080/"
        },
        "id": "LULx5wGAbgRo",
        "outputId": "9dc9ca7a-7038-4dcc-b2a7-56ff8a37005a"
      },
      "execution_count": null,
      "outputs": [
        {
          "output_type": "stream",
          "name": "stdout",
          "text": [
            "[[1 2 4]\n",
            " [5 6 7]]\n"
          ]
        }
      ]
    },
    {
      "cell_type": "code",
      "source": [
        "table= arr[:,[0,2]]\n",
        "print(table)"
      ],
      "metadata": {
        "colab": {
          "base_uri": "https://localhost:8080/"
        },
        "id": "wuB7cNVhbxDD",
        "outputId": "f0b23558-a9ad-4679-cc62-e42384ebcedf"
      },
      "execution_count": null,
      "outputs": [
        {
          "output_type": "stream",
          "name": "stdout",
          "text": [
            "[[1 3]\n",
            " [1 4]\n",
            " [5 7]]\n"
          ]
        }
      ]
    },
    {
      "cell_type": "code",
      "source": [
        "table= arr[[0,2],:]\n",
        "print(table)"
      ],
      "metadata": {
        "colab": {
          "base_uri": "https://localhost:8080/"
        },
        "id": "wcXqMuDZcDwA",
        "outputId": "de52d8f7-c186-4608-defb-535680393461"
      },
      "execution_count": null,
      "outputs": [
        {
          "output_type": "stream",
          "name": "stdout",
          "text": [
            "[[1 2 3]\n",
            " [5 6 7]]\n"
          ]
        }
      ]
    },
    {
      "cell_type": "code",
      "source": [
        "table= arr[1:,[0,2]]\n",
        "print(table)"
      ],
      "metadata": {
        "colab": {
          "base_uri": "https://localhost:8080/"
        },
        "id": "EsC1AM9pcCkQ",
        "outputId": "4abafaa3-9e3f-413f-f059-ade472f030ba"
      },
      "execution_count": null,
      "outputs": [
        {
          "output_type": "stream",
          "name": "stdout",
          "text": [
            "[[1 4]\n",
            " [5 7]]\n"
          ]
        }
      ]
    },
    {
      "cell_type": "code",
      "source": [
        "table = arr[[0,2],1:]\n",
        "print(table)"
      ],
      "metadata": {
        "colab": {
          "base_uri": "https://localhost:8080/"
        },
        "id": "-DiZbD-ReVWI",
        "outputId": "f6596405-5ec9-4a45-8894-8f1a4a5e685d"
      },
      "execution_count": null,
      "outputs": [
        {
          "output_type": "stream",
          "name": "stdout",
          "text": [
            "[[2 3]\n",
            " [6 7]]\n"
          ]
        }
      ]
    },
    {
      "cell_type": "code",
      "source": [
        "table=arr[1:,[0,1]]\n",
        "print(table)"
      ],
      "metadata": {
        "colab": {
          "base_uri": "https://localhost:8080/"
        },
        "id": "6P_6rAW6gpT0",
        "outputId": "0fe8c4d6-ac1d-4b8c-d557-6767bd73a3b2"
      },
      "execution_count": null,
      "outputs": [
        {
          "output_type": "stream",
          "name": "stdout",
          "text": [
            "[[1 2]\n",
            " [5 6]]\n"
          ]
        }
      ]
    },
    {
      "cell_type": "code",
      "source": [
        "array = np.array( [ [1,2,3],\n",
        "                  [4,5,6],\n",
        "                  [7,8,9] ])\n",
        "table=arr[[0,1],1:]\n",
        "print(table)"
      ],
      "metadata": {
        "colab": {
          "base_uri": "https://localhost:8080/"
        },
        "id": "yfcnhzRYh5j-",
        "outputId": "1d0644a5-718c-43f6-ca37-71b6ed6fc51c"
      },
      "execution_count": null,
      "outputs": [
        {
          "output_type": "stream",
          "name": "stdout",
          "text": [
            "[[2 3]\n",
            " [5 6]]\n"
          ]
        }
      ]
    },
    {
      "cell_type": "code",
      "source": [
        "table =arr[1,2]\n",
        "print(table)"
      ],
      "metadata": {
        "colab": {
          "base_uri": "https://localhost:8080/"
        },
        "id": "szaLppOLjsWA",
        "outputId": "2fbb2e01-e94d-4abe-d536-7846a622fd56"
      },
      "execution_count": null,
      "outputs": [
        {
          "output_type": "stream",
          "name": "stdout",
          "text": [
            "4\n"
          ]
        }
      ]
    },
    {
      "cell_type": "code",
      "source": [
        "import numpy as np\n",
        "arr3dL =np.array([ [ [1,2,3] , [4,5,9] ] , [ [5,6,4] , [7,8,2] ] ])\n",
        "print(arr3dL)\n"
      ],
      "metadata": {
        "colab": {
          "base_uri": "https://localhost:8080/"
        },
        "id": "gPtDdk07PF-k",
        "outputId": "70dc7a20-2020-4269-f4fa-56161641b8a7"
      },
      "execution_count": null,
      "outputs": [
        {
          "output_type": "stream",
          "name": "stdout",
          "text": [
            "[[[1 2 3]\n",
            "  [4 5 9]]\n",
            "\n",
            " [[5 6 4]\n",
            "  [7 8 2]]]\n"
          ]
        }
      ]
    },
    {
      "cell_type": "code",
      "source": [
        "table = arr3dL[0,:,:]\n",
        "print(table)"
      ],
      "metadata": {
        "colab": {
          "base_uri": "https://localhost:8080/"
        },
        "id": "FlRYlbxgPzWJ",
        "outputId": "acace29e-47a5-4480-ef95-d57c56207b9a"
      },
      "execution_count": null,
      "outputs": [
        {
          "output_type": "stream",
          "name": "stdout",
          "text": [
            "[[1 2 3]\n",
            " [4 5 9]]\n"
          ]
        }
      ]
    },
    {
      "cell_type": "code",
      "source": [
        "table = arr3dL[1,:,:]\n",
        "print(table)"
      ],
      "metadata": {
        "colab": {
          "base_uri": "https://localhost:8080/"
        },
        "id": "ifkg6UhkQEII",
        "outputId": "ed0efdef-ab51-46c3-ddfa-7e3aecec9417"
      },
      "execution_count": null,
      "outputs": [
        {
          "output_type": "stream",
          "name": "stdout",
          "text": [
            "[[5 6 4]\n",
            " [7 8 2]]\n"
          ]
        }
      ]
    },
    {
      "cell_type": "code",
      "source": [
        "table =arr3dL[1,0,:]\n",
        "print(table)"
      ],
      "metadata": {
        "colab": {
          "base_uri": "https://localhost:8080/"
        },
        "id": "j8YKNeWzQMs5",
        "outputId": "127766d9-bec0-4c4a-92b3-673294efc18d"
      },
      "execution_count": null,
      "outputs": [
        {
          "output_type": "stream",
          "name": "stdout",
          "text": [
            "[5 6 4]\n"
          ]
        }
      ]
    },
    {
      "cell_type": "code",
      "source": [
        "table = arr3dL[0,1,:]\n",
        "print(table)"
      ],
      "metadata": {
        "colab": {
          "base_uri": "https://localhost:8080/"
        },
        "id": "AwhH9XF-QWux",
        "outputId": "ecc4528c-deed-48d0-970f-4a0fc634e39e"
      },
      "execution_count": null,
      "outputs": [
        {
          "output_type": "stream",
          "name": "stdout",
          "text": [
            "[4 5 9]\n"
          ]
        }
      ]
    },
    {
      "cell_type": "code",
      "source": [
        "table = arr3dL[1,:,2]\n",
        "print(table)"
      ],
      "metadata": {
        "colab": {
          "base_uri": "https://localhost:8080/"
        },
        "id": "kydfgAf3QfKK",
        "outputId": "83b128ee-4c6e-4028-a714-2b20e0acf036"
      },
      "execution_count": null,
      "outputs": [
        {
          "output_type": "stream",
          "name": "stdout",
          "text": [
            "[4 2]\n"
          ]
        }
      ]
    },
    {
      "cell_type": "code",
      "source": [
        "table = arr3dL[0,:,1]\n",
        "print(table)"
      ],
      "metadata": {
        "colab": {
          "base_uri": "https://localhost:8080/"
        },
        "id": "h-FSlCu9QriA",
        "outputId": "1e46bd43-722e-4e9c-f711-4871a88ef8de"
      },
      "execution_count": null,
      "outputs": [
        {
          "output_type": "stream",
          "name": "stdout",
          "text": [
            "[2 5]\n"
          ]
        }
      ]
    },
    {
      "cell_type": "markdown",
      "source": [
        "#**uninitialized array in numpy**"
      ],
      "metadata": {
        "id": "I6880BJV3KQy"
      }
    },
    {
      "cell_type": "code",
      "source": [
        "uninitialized_array =np.empty([5,3])\n",
        "print(uninitialized_array)"
      ],
      "metadata": {
        "colab": {
          "base_uri": "https://localhost:8080/"
        },
        "id": "lUU5K3_iQ1kS",
        "outputId": "fe1dc9a0-6226-4854-ef8a-53dd0baa08d7"
      },
      "execution_count": null,
      "outputs": [
        {
          "output_type": "stream",
          "name": "stdout",
          "text": [
            "[[4.71207172e-310 0.00000000e+000 6.94049486e-310]\n",
            " [6.94049486e-310 6.94049486e-310 6.94049486e-310]\n",
            " [5.09234030e+246 3.21142670e-322 4.71097874e-310]\n",
            " [6.94055850e-310 9.47751136e+170 1.63041663e-322]\n",
            " [4.71097881e-310 6.94055850e-310 7.90505033e-322]]\n"
          ]
        }
      ]
    },
    {
      "cell_type": "markdown",
      "source": [
        "#**arrays initialized with zeros**"
      ],
      "metadata": {
        "id": "sFCJyWNX3eVJ"
      }
    },
    {
      "cell_type": "code",
      "source": [
        "a = np.zeros((3,3))\n",
        "print(a)\n",
        "print(\"---------------------------\")\n",
        "b = np.zeros((3,3),dtype=int)\n",
        "print(b)"
      ],
      "metadata": {
        "colab": {
          "base_uri": "https://localhost:8080/"
        },
        "id": "xkJmPiruR8H_",
        "outputId": "5ec86983-29df-49c5-8cba-5463950b55d2"
      },
      "execution_count": null,
      "outputs": [
        {
          "output_type": "stream",
          "name": "stdout",
          "text": [
            "[[0. 0. 0.]\n",
            " [0. 0. 0.]\n",
            " [0. 0. 0.]]\n",
            "---------------------------\n",
            "[[0 0 0]\n",
            " [0 0 0]\n",
            " [0 0 0]]\n"
          ]
        }
      ]
    },
    {
      "cell_type": "markdown",
      "source": [
        "#**arrays initialized with ones in numpy**"
      ],
      "metadata": {
        "id": "ktolSGA93vfz"
      }
    },
    {
      "cell_type": "code",
      "source": [
        "c = np.ones((3,3))\n",
        "print(c)\n",
        "\n",
        "d = np.ones((3,3),dtype=int)\n",
        "print(d)"
      ],
      "metadata": {
        "colab": {
          "base_uri": "https://localhost:8080/"
        },
        "id": "411DojQMSqrE",
        "outputId": "0002bb82-92d4-4ea4-94a4-531f4d3a553c"
      },
      "execution_count": null,
      "outputs": [
        {
          "output_type": "stream",
          "name": "stdout",
          "text": [
            "[[1. 1. 1.]\n",
            " [1. 1. 1.]\n",
            " [1. 1. 1.]]\n",
            "[[1 1 1]\n",
            " [1 1 1]\n",
            " [1 1 1]]\n"
          ]
        }
      ]
    },
    {
      "cell_type": "markdown",
      "source": [
        "#**numerical array ranges in numpy**"
      ],
      "metadata": {
        "id": "-3wsLzFs39g8"
      }
    },
    {
      "cell_type": "code",
      "source": [
        "array_with_range = np.arange(5)\n",
        "print(array_with_range)"
      ],
      "metadata": {
        "colab": {
          "base_uri": "https://localhost:8080/"
        },
        "id": "2pG7iGeKTTKk",
        "outputId": "ed6deeb2-ddd9-419c-8417-dadc28402b16"
      },
      "execution_count": null,
      "outputs": [
        {
          "output_type": "stream",
          "name": "stdout",
          "text": [
            "[0 1 2 3 4]\n"
          ]
        }
      ]
    },
    {
      "cell_type": "code",
      "source": [
        "array_range =np.arange(20,50,2)\n",
        "print(array_range)"
      ],
      "metadata": {
        "colab": {
          "base_uri": "https://localhost:8080/"
        },
        "id": "uCC0zqmBT337",
        "outputId": "72600f22-0c0a-4587-d74e-7f385d27f340"
      },
      "execution_count": null,
      "outputs": [
        {
          "output_type": "stream",
          "name": "stdout",
          "text": [
            "[20 22 24 26 28 30 32 34 36 38 40 42 44 46 48]\n"
          ]
        }
      ]
    },
    {
      "cell_type": "markdown",
      "source": [
        "#**array from random numbers**"
      ],
      "metadata": {
        "id": "mtkvw3N64d3E"
      }
    },
    {
      "cell_type": "code",
      "source": [
        "random_array = np.random.random((4,3))\n",
        "print(random_array)"
      ],
      "metadata": {
        "colab": {
          "base_uri": "https://localhost:8080/"
        },
        "id": "Izs3BNl5UNd7",
        "outputId": "31b58e9b-4189-42c1-f2c9-94134bd9c2ef"
      },
      "execution_count": null,
      "outputs": [
        {
          "output_type": "stream",
          "name": "stdout",
          "text": [
            "[[0.76052398 0.75760324 0.14541377]\n",
            " [0.59683676 0.62282821 0.52493161]\n",
            " [0.9901892  0.59170478 0.37636929]\n",
            " [0.0141654  0.40469464 0.44460466]]\n"
          ]
        }
      ]
    },
    {
      "cell_type": "code",
      "source": [
        "random = np.random.randint(1,5)\n",
        "print(random)"
      ],
      "metadata": {
        "colab": {
          "base_uri": "https://localhost:8080/"
        },
        "id": "EXPXwfgGUpTL",
        "outputId": "680f3cb4-5a62-4807-a632-22f4902c3545"
      },
      "execution_count": null,
      "outputs": [
        {
          "output_type": "stream",
          "name": "stdout",
          "text": [
            "1\n"
          ]
        }
      ]
    },
    {
      "cell_type": "code",
      "source": [
        "random_array = np.random.randint(0,5,size=(2,3,4))\n",
        "print(random_array)"
      ],
      "metadata": {
        "colab": {
          "base_uri": "https://localhost:8080/"
        },
        "id": "nYZ4wKFjU_LE",
        "outputId": "9232b9d5-1d28-45cf-882b-e394ac258c51"
      },
      "execution_count": null,
      "outputs": [
        {
          "output_type": "stream",
          "name": "stdout",
          "text": [
            "[[[1 0 4 2]\n",
            "  [3 3 1 4]\n",
            "  [1 4 3 3]]\n",
            "\n",
            " [[3 2 3 2]\n",
            "  [2 0 4 2]\n",
            "  [0 2 0 2]]]\n"
          ]
        }
      ]
    },
    {
      "cell_type": "markdown",
      "source": [
        "#**array from specified numbers**"
      ],
      "metadata": {
        "id": "ijOCS3nL4mRB"
      }
    },
    {
      "cell_type": "code",
      "source": [
        "arr = np.full((3,3),20)\n",
        "print(arr)"
      ],
      "metadata": {
        "colab": {
          "base_uri": "https://localhost:8080/"
        },
        "id": "4e3CJ9oSVmDF",
        "outputId": "96d29ed3-7ed1-4837-f789-ab09a19a057f"
      },
      "execution_count": null,
      "outputs": [
        {
          "output_type": "stream",
          "name": "stdout",
          "text": [
            "[[20 20 20]\n",
            " [20 20 20]\n",
            " [20 20 20]]\n"
          ]
        }
      ]
    },
    {
      "cell_type": "code",
      "source": [
        "arr = np.identity(4)\n",
        "print(arr)"
      ],
      "metadata": {
        "colab": {
          "base_uri": "https://localhost:8080/"
        },
        "id": "wMG_3CZFWKft",
        "outputId": "e4929e7d-5bf4-4101-a86c-ed66ed893571"
      },
      "execution_count": null,
      "outputs": [
        {
          "output_type": "stream",
          "name": "stdout",
          "text": [
            "[[1. 0. 0. 0.]\n",
            " [0. 1. 0. 0.]\n",
            " [0. 0. 1. 0.]\n",
            " [0. 0. 0. 1.]]\n"
          ]
        }
      ]
    },
    {
      "cell_type": "markdown",
      "source": [
        "#**basic statistics in numpy**"
      ],
      "metadata": {
        "id": "ECVU5K1k5Yzm"
      }
    },
    {
      "cell_type": "code",
      "source": [
        "arr = np.array ( [1,2,3,4,5] )\n",
        "mean = np.mean(arr)\n",
        "print(mean)\n"
      ],
      "metadata": {
        "colab": {
          "base_uri": "https://localhost:8080/"
        },
        "id": "QUUJdPxZWldk",
        "outputId": "601f77ff-684b-49af-b435-462da65a5082"
      },
      "execution_count": null,
      "outputs": [
        {
          "output_type": "stream",
          "name": "stdout",
          "text": [
            "3.0\n"
          ]
        }
      ]
    },
    {
      "cell_type": "code",
      "source": [
        "arr = np.array( [1,2,3,4,5])\n",
        "median = np.median(arr)\n",
        "print(\"median: \",median)\n"
      ],
      "metadata": {
        "colab": {
          "base_uri": "https://localhost:8080/"
        },
        "id": "Yxv1QduqWkqP",
        "outputId": "0c8cc99f-b3fc-4b6a-a08f-7e59ac3d2796"
      },
      "execution_count": null,
      "outputs": [
        {
          "output_type": "stream",
          "name": "stdout",
          "text": [
            "median:  3.0\n"
          ]
        }
      ]
    },
    {
      "cell_type": "code",
      "source": [
        "arr = np.array( [1,2,3,4,5])\n",
        "std_deviation = np.std(arr)\n",
        "print(\"standered deviation:\",std_deviation)"
      ],
      "metadata": {
        "colab": {
          "base_uri": "https://localhost:8080/"
        },
        "id": "JE2TDCLbYLxy",
        "outputId": "897d3d7f-b3fb-41fe-d098-1d1b48f335d4"
      },
      "execution_count": null,
      "outputs": [
        {
          "output_type": "stream",
          "name": "stdout",
          "text": [
            "standered deviation: 1.4142135623730951\n"
          ]
        }
      ]
    },
    {
      "cell_type": "code",
      "source": [
        "arr = np.array( [1,2,3,4,5])\n",
        "variance = np.var(arr)\n",
        "print(\"variance: \",variance)"
      ],
      "metadata": {
        "colab": {
          "base_uri": "https://localhost:8080/"
        },
        "id": "5t3haHNEcnyl",
        "outputId": "3545f828-6da1-40ac-97ed-c36b03bf76f1"
      },
      "execution_count": null,
      "outputs": [
        {
          "output_type": "stream",
          "name": "stdout",
          "text": [
            "variance:  2.0\n"
          ]
        }
      ]
    },
    {
      "cell_type": "code",
      "source": [
        "arr = np.array( [1,2,3,4,5] )\n",
        "minimum = np.min(arr)\n",
        "print(\"minimum value : \",minimum)\n",
        "\n",
        "maximum = np.max(arr)\n",
        "print(\"maximum value : \",maximum)\n"
      ],
      "metadata": {
        "colab": {
          "base_uri": "https://localhost:8080/"
        },
        "id": "dgpEmyjCdEH3",
        "outputId": "27c8cdeb-b584-486c-ac35-937b865ae5f6"
      },
      "execution_count": null,
      "outputs": [
        {
          "output_type": "stream",
          "name": "stdout",
          "text": [
            "minimum value :  1\n",
            "maximum value :  5\n"
          ]
        }
      ]
    },
    {
      "cell_type": "code",
      "source": [
        "arr = np.array( [1,2,3,4,5])\n",
        "sum =np.sum(arr)\n",
        "print(\"sum : \",sum)\n",
        "\n",
        "product = np.prod(arr)\n",
        "print(\"product : \", product)"
      ],
      "metadata": {
        "colab": {
          "base_uri": "https://localhost:8080/"
        },
        "id": "cAGI0BDEeg5g",
        "outputId": "d7303928-f73a-40da-ee1d-b370e26d7190"
      },
      "execution_count": null,
      "outputs": [
        {
          "output_type": "stream",
          "name": "stdout",
          "text": [
            "sum :  15\n",
            "product :  120\n"
          ]
        }
      ]
    },
    {
      "cell_type": "markdown",
      "source": [
        "#**Task 1**"
      ],
      "metadata": {
        "id": "XfjydCgMplKw"
      }
    },
    {
      "cell_type": "markdown",
      "source": [],
      "metadata": {
        "id": "Ob47pTSip2jq"
      }
    },
    {
      "cell_type": "code",
      "source": [
        "arr_1d = np.array( [1,2,3,4,5] )\n",
        "print(\"1d array: \",arr_1d)\n",
        "print(\"         \")\n",
        "\n",
        "arr_2d = np.array( [ [1,2,3], [4,5,6], [7,8,9] ] )\n",
        "print(\"2d array: \",arr_2d)\n",
        "print(\"         \")\n",
        "\n",
        "arr_3d = np.array( [ [ [1,2], [3,4]], [[5,6],[7,8]], [[9,10], [11,12]]])\n",
        "print(\"3d array: \",arr_3d)\n"
      ],
      "metadata": {
        "colab": {
          "base_uri": "https://localhost:8080/"
        },
        "id": "OSXuZ1Vmfnop",
        "outputId": "07c83471-778d-4c0e-b2c9-b148950e7c6d"
      },
      "execution_count": null,
      "outputs": [
        {
          "output_type": "stream",
          "name": "stdout",
          "text": [
            "1d array:  [1 2 3 4 5]\n",
            "         \n",
            "2d array:  [[1 2 3]\n",
            " [4 5 6]\n",
            " [7 8 9]]\n",
            "         \n",
            "3d array:  [[[ 1  2]\n",
            "  [ 3  4]]\n",
            "\n",
            " [[ 5  6]\n",
            "  [ 7  8]]\n",
            "\n",
            " [[ 9 10]\n",
            "  [11 12]]]\n"
          ]
        }
      ]
    },
    {
      "cell_type": "code",
      "source": [
        "#1)3\n",
        "x = arr_1d[2]\n",
        "print(x)\n",
        "#2)6\n",
        "a = arr_2d[1,2]\n",
        "print(a)"
      ],
      "metadata": {
        "colab": {
          "base_uri": "https://localhost:8080/"
        },
        "id": "j8QCCP4Wjif6",
        "outputId": "8fa24da5-fa25-4ce9-a573-2b6684964608"
      },
      "execution_count": null,
      "outputs": [
        {
          "output_type": "stream",
          "name": "stdout",
          "text": [
            "3\n",
            "6\n"
          ]
        }
      ]
    },
    {
      "cell_type": "code",
      "source": [
        "#3)78\n",
        "sum = np.sum(arr_3d)\n",
        "print(\"sum : \",sum)"
      ],
      "metadata": {
        "colab": {
          "base_uri": "https://localhost:8080/"
        },
        "id": "Q390M2W-kJ9o",
        "outputId": "7b6cfbaa-589b-46fc-c95b-aa6642fb4338"
      },
      "execution_count": null,
      "outputs": [
        {
          "output_type": "stream",
          "name": "stdout",
          "text": [
            "sum :  78\n"
          ]
        }
      ]
    },
    {
      "cell_type": "code",
      "source": [
        "#4) 6\n",
        "x = arr_1d[0]\n",
        "print(x)\n",
        "y = arr_1d[4]\n",
        "print(y)\n",
        "\n",
        "row = x+y\n",
        "sum_value = np.sum(row)\n",
        "print(\"sum: \",sum_value)\n"
      ],
      "metadata": {
        "colab": {
          "base_uri": "https://localhost:8080/"
        },
        "id": "qtJhghZ1kzXR",
        "outputId": "e963a8cb-f8ac-47fc-845c-40bf114df041"
      },
      "execution_count": null,
      "outputs": [
        {
          "output_type": "stream",
          "name": "stdout",
          "text": [
            "1\n",
            "5\n",
            "sum:  6\n"
          ]
        }
      ]
    },
    {
      "cell_type": "code",
      "source": [
        "#5) 15\n",
        "row = arr_2d[1,:]\n",
        "print(row)\n",
        "sum_value = np.sum(row)\n",
        "print(\"sum: \",sum_value)\n"
      ],
      "metadata": {
        "colab": {
          "base_uri": "https://localhost:8080/"
        },
        "id": "7GV5BCjPk7Dv",
        "outputId": "94555e4e-c64b-4de8-ac18-d3a0991fec37"
      },
      "execution_count": null,
      "outputs": [
        {
          "output_type": "stream",
          "name": "stdout",
          "text": [
            "[4 5 6]\n",
            "sum:  15\n"
          ]
        }
      ]
    },
    {
      "cell_type": "code",
      "source": [
        "#6) 6\n",
        "arr = arr_3d[1,0,1]\n",
        "print(arr)"
      ],
      "metadata": {
        "id": "way2TvCvmWcq",
        "colab": {
          "base_uri": "https://localhost:8080/"
        },
        "outputId": "c97328fd-8c04-41de-e250-c84ec29dfa78"
      },
      "execution_count": null,
      "outputs": [
        {
          "output_type": "stream",
          "name": "stdout",
          "text": [
            "6\n"
          ]
        }
      ]
    },
    {
      "cell_type": "code",
      "source": [
        "#7) 5\n",
        "elements = np.size(arr_1d)\n",
        "print(elements)"
      ],
      "metadata": {
        "colab": {
          "base_uri": "https://localhost:8080/"
        },
        "id": "SpkZAw_ImzmS",
        "outputId": "fac2ced9-2428-452b-de0f-3a5a57e35b03"
      },
      "execution_count": null,
      "outputs": [
        {
          "output_type": "stream",
          "name": "stdout",
          "text": [
            "5\n"
          ]
        }
      ]
    },
    {
      "cell_type": "code",
      "source": [
        "#8) 28\n",
        "row = arr_2d[:,0]\n",
        "print(row)\n",
        "product_value = np.prod(row)\n",
        "print(\"product: \",product_value)"
      ],
      "metadata": {
        "colab": {
          "base_uri": "https://localhost:8080/"
        },
        "id": "VBpqZZ9zm6Wh",
        "outputId": "ca5f9341-448f-4a68-8da7-c3aaea7e4e04"
      },
      "execution_count": null,
      "outputs": [
        {
          "output_type": "stream",
          "name": "stdout",
          "text": [
            "[1 4 7]\n",
            "product:  28\n"
          ]
        }
      ]
    },
    {
      "cell_type": "code",
      "source": [
        "#9)\n",
        "\n",
        "arr = arr_3d[1,:,:]\n",
        "print(arr)\n",
        "mean_value = np.mean(arr)\n",
        "print(\"mean of second 2*2 array of arr_3d\",mean_value)"
      ],
      "metadata": {
        "id": "ujS6eJBbn37D",
        "colab": {
          "base_uri": "https://localhost:8080/"
        },
        "outputId": "139f94b9-1a34-4948-a3e5-14fbea4c2835"
      },
      "execution_count": null,
      "outputs": [
        {
          "output_type": "stream",
          "name": "stdout",
          "text": [
            "[[5 6]\n",
            " [7 8]]\n",
            "mean of second 2*2 array of arr_3d 6.5\n"
          ]
        }
      ]
    },
    {
      "cell_type": "code",
      "source": [
        "#10) 5\n",
        "maximum = np.max(arr_1d)\n",
        "print(\"maximum value: \",maximum)"
      ],
      "metadata": {
        "colab": {
          "base_uri": "https://localhost:8080/"
        },
        "id": "AHffrXc8n_58",
        "outputId": "db4663e3-a78d-4f9d-99cc-480d8eee2da0"
      },
      "execution_count": null,
      "outputs": [
        {
          "output_type": "stream",
          "name": "stdout",
          "text": [
            "maximum value:  5\n"
          ]
        }
      ]
    },
    {
      "cell_type": "code",
      "source": [],
      "metadata": {
        "id": "dCuKkzO29M2D"
      },
      "execution_count": null,
      "outputs": []
    }
  ]
}